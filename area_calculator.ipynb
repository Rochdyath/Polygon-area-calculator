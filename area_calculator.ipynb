{
 "cells": [
  {
   "cell_type": "code",
   "execution_count": 34,
   "metadata": {},
   "outputs": [],
   "source": [
    "class Rectangle():\n",
    "    def __init__(self, width, height):\n",
    "        self.width = width\n",
    "        self.height = height\n",
    "    \n",
    "    def __str__(self):\n",
    "        return (f\"Rectangle(width={self.width}, height={self.height})\")\n",
    "    \n",
    "    def set_width(self, width):\n",
    "        self.width = width\n",
    "    \n",
    "    def set_height(self, height):\n",
    "        self.height = height\n",
    "    \n",
    "    def get_area(self):\n",
    "        return (self.width * self.height)\n",
    "\n",
    "    def get_perimeter(self):\n",
    "        return ((2*self.width)+(2*self.height))\n",
    "    \n",
    "    def get_diagonal(self):\n",
    "        return (pow((pow(self.width, 2) + pow(self.height, 2)), 0.5))\n",
    "    \n",
    "    def get_picture(self):\n",
    "        shape = \"\\n\".join([\"*\"*self.width]*self.height)\n",
    "        return(shape + \"\\n\")\n",
    "    \n",
    "    def get_amount_inside(self, shape):\n",
    "        w = self.width // shape.width\n",
    "        h = self.height // shape.height\n",
    "        return(w*h)"
   ]
  },
  {
   "cell_type": "code",
   "execution_count": 35,
   "metadata": {},
   "outputs": [],
   "source": [
    "class Square(Rectangle):\n",
    "    def __init__(self, side):\n",
    "        self.width = side\n",
    "        self.height = side\n",
    "    \n",
    "    def __str__(self):\n",
    "        return (f\"Square(side={self.height})\")\n",
    "    \n",
    "    def set_side(self, side):\n",
    "        self.width = side\n",
    "        self.height = side\n",
    "    \n",
    "    def set_width(self, width):\n",
    "        self.set_side(width)\n",
    "    \n",
    "    def set_height(self, height):\n",
    "        self.set_side(height)"
   ]
  },
  {
   "cell_type": "code",
   "execution_count": 36,
   "metadata": {},
   "outputs": [
    {
     "name": "stdout",
     "output_type": "stream",
     "text": [
      "50\n",
      "26\n",
      "Rectangle(width=10, height=3)\n",
      "**********\n",
      "**********\n",
      "**********\n",
      "\n",
      "81\n",
      "5.656854249492381\n",
      "Square(side=4)\n",
      "****\n",
      "****\n",
      "****\n",
      "****\n",
      "\n",
      "8\n"
     ]
    }
   ],
   "source": [
    "rect = Rectangle(10, 5)\n",
    "print(rect.get_area())\n",
    "rect.set_height(3)\n",
    "print(rect.get_perimeter())\n",
    "print(rect)\n",
    "print(rect.get_picture())\n",
    "\n",
    "sq = Square(9)\n",
    "print(sq.get_area())\n",
    "sq.set_side(4)\n",
    "print(sq.get_diagonal())\n",
    "print(sq)\n",
    "print(sq.get_picture())\n",
    "\n",
    "rect.set_height(8)\n",
    "rect.set_width(16)\n",
    "print(rect.get_amount_inside(sq))"
   ]
  }
 ],
 "metadata": {
  "kernelspec": {
   "display_name": "base",
   "language": "python",
   "name": "python3"
  },
  "language_info": {
   "codemirror_mode": {
    "name": "ipython",
    "version": 3
   },
   "file_extension": ".py",
   "mimetype": "text/x-python",
   "name": "python",
   "nbconvert_exporter": "python",
   "pygments_lexer": "ipython3",
   "version": "3.11.5"
  }
 },
 "nbformat": 4,
 "nbformat_minor": 2
}
